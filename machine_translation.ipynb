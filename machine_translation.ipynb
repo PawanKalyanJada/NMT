{
  "nbformat": 4,
  "nbformat_minor": 0,
  "metadata": {
    "colab": {
      "name": "machine translation.ipynb",
      "provenance": [],
      "collapsed_sections": [],
      "include_colab_link": true
    },
    "kernelspec": {
      "name": "python3",
      "display_name": "Python 3"
    },
    "language_info": {
      "name": "python"
    },
    "accelerator": "TPU"
  },
  "cells": [
    {
      "cell_type": "markdown",
      "metadata": {
        "id": "view-in-github",
        "colab_type": "text"
      },
      "source": [
        "<a href=\"https://colab.research.google.com/github/PawanKalyanJada/NMT/blob/main/machine_translation.ipynb\" target=\"_parent\"><img src=\"https://colab.research.google.com/assets/colab-badge.svg\" alt=\"Open In Colab\"/></a>"
      ]
    },
    {
      "cell_type": "code",
      "metadata": {
        "colab": {
          "base_uri": "https://localhost:8080/"
        },
        "id": "wnTjfC6RzhMe",
        "outputId": "6b9ab36d-a408-4605-9063-e0fe7323718e"
      },
      "source": [
        "import tensorflow as tf\n",
        "tpu = tf.distribute.cluster_resolver.TPUClusterResolver.connect()\n",
        "tpu_strategy = tf.distribute.TPUStrategy(tpu)"
      ],
      "execution_count": null,
      "outputs": [
        {
          "output_type": "stream",
          "text": [
            "INFO:tensorflow:Initializing the TPU system: grpc://10.126.53.26:8470\n"
          ],
          "name": "stdout"
        },
        {
          "output_type": "stream",
          "text": [
            "INFO:tensorflow:Initializing the TPU system: grpc://10.126.53.26:8470\n"
          ],
          "name": "stderr"
        },
        {
          "output_type": "stream",
          "text": [
            "INFO:tensorflow:Clearing out eager caches\n"
          ],
          "name": "stdout"
        },
        {
          "output_type": "stream",
          "text": [
            "INFO:tensorflow:Clearing out eager caches\n"
          ],
          "name": "stderr"
        },
        {
          "output_type": "stream",
          "text": [
            "INFO:tensorflow:Finished initializing TPU system.\n"
          ],
          "name": "stdout"
        },
        {
          "output_type": "stream",
          "text": [
            "INFO:tensorflow:Finished initializing TPU system.\n"
          ],
          "name": "stderr"
        },
        {
          "output_type": "stream",
          "text": [
            "INFO:tensorflow:Found TPU system:\n"
          ],
          "name": "stdout"
        },
        {
          "output_type": "stream",
          "text": [
            "INFO:tensorflow:Found TPU system:\n"
          ],
          "name": "stderr"
        },
        {
          "output_type": "stream",
          "text": [
            "INFO:tensorflow:*** Num TPU Cores: 8\n"
          ],
          "name": "stdout"
        },
        {
          "output_type": "stream",
          "text": [
            "INFO:tensorflow:*** Num TPU Cores: 8\n"
          ],
          "name": "stderr"
        },
        {
          "output_type": "stream",
          "text": [
            "INFO:tensorflow:*** Num TPU Workers: 1\n"
          ],
          "name": "stdout"
        },
        {
          "output_type": "stream",
          "text": [
            "INFO:tensorflow:*** Num TPU Workers: 1\n"
          ],
          "name": "stderr"
        },
        {
          "output_type": "stream",
          "text": [
            "INFO:tensorflow:*** Num TPU Cores Per Worker: 8\n"
          ],
          "name": "stdout"
        },
        {
          "output_type": "stream",
          "text": [
            "INFO:tensorflow:*** Num TPU Cores Per Worker: 8\n"
          ],
          "name": "stderr"
        },
        {
          "output_type": "stream",
          "text": [
            "INFO:tensorflow:*** Available Device: _DeviceAttributes(/job:localhost/replica:0/task:0/device:CPU:0, CPU, 0, 0)\n"
          ],
          "name": "stdout"
        },
        {
          "output_type": "stream",
          "text": [
            "INFO:tensorflow:*** Available Device: _DeviceAttributes(/job:localhost/replica:0/task:0/device:CPU:0, CPU, 0, 0)\n"
          ],
          "name": "stderr"
        },
        {
          "output_type": "stream",
          "text": [
            "INFO:tensorflow:*** Available Device: _DeviceAttributes(/job:worker/replica:0/task:0/device:CPU:0, CPU, 0, 0)\n"
          ],
          "name": "stdout"
        },
        {
          "output_type": "stream",
          "text": [
            "INFO:tensorflow:*** Available Device: _DeviceAttributes(/job:worker/replica:0/task:0/device:CPU:0, CPU, 0, 0)\n"
          ],
          "name": "stderr"
        },
        {
          "output_type": "stream",
          "text": [
            "INFO:tensorflow:*** Available Device: _DeviceAttributes(/job:worker/replica:0/task:0/device:TPU:0, TPU, 0, 0)\n"
          ],
          "name": "stdout"
        },
        {
          "output_type": "stream",
          "text": [
            "INFO:tensorflow:*** Available Device: _DeviceAttributes(/job:worker/replica:0/task:0/device:TPU:0, TPU, 0, 0)\n"
          ],
          "name": "stderr"
        },
        {
          "output_type": "stream",
          "text": [
            "INFO:tensorflow:*** Available Device: _DeviceAttributes(/job:worker/replica:0/task:0/device:TPU:1, TPU, 0, 0)\n"
          ],
          "name": "stdout"
        },
        {
          "output_type": "stream",
          "text": [
            "INFO:tensorflow:*** Available Device: _DeviceAttributes(/job:worker/replica:0/task:0/device:TPU:1, TPU, 0, 0)\n"
          ],
          "name": "stderr"
        },
        {
          "output_type": "stream",
          "text": [
            "INFO:tensorflow:*** Available Device: _DeviceAttributes(/job:worker/replica:0/task:0/device:TPU:2, TPU, 0, 0)\n"
          ],
          "name": "stdout"
        },
        {
          "output_type": "stream",
          "text": [
            "INFO:tensorflow:*** Available Device: _DeviceAttributes(/job:worker/replica:0/task:0/device:TPU:2, TPU, 0, 0)\n"
          ],
          "name": "stderr"
        },
        {
          "output_type": "stream",
          "text": [
            "INFO:tensorflow:*** Available Device: _DeviceAttributes(/job:worker/replica:0/task:0/device:TPU:3, TPU, 0, 0)\n"
          ],
          "name": "stdout"
        },
        {
          "output_type": "stream",
          "text": [
            "INFO:tensorflow:*** Available Device: _DeviceAttributes(/job:worker/replica:0/task:0/device:TPU:3, TPU, 0, 0)\n"
          ],
          "name": "stderr"
        },
        {
          "output_type": "stream",
          "text": [
            "INFO:tensorflow:*** Available Device: _DeviceAttributes(/job:worker/replica:0/task:0/device:TPU:4, TPU, 0, 0)\n"
          ],
          "name": "stdout"
        },
        {
          "output_type": "stream",
          "text": [
            "INFO:tensorflow:*** Available Device: _DeviceAttributes(/job:worker/replica:0/task:0/device:TPU:4, TPU, 0, 0)\n"
          ],
          "name": "stderr"
        },
        {
          "output_type": "stream",
          "text": [
            "INFO:tensorflow:*** Available Device: _DeviceAttributes(/job:worker/replica:0/task:0/device:TPU:5, TPU, 0, 0)\n"
          ],
          "name": "stdout"
        },
        {
          "output_type": "stream",
          "text": [
            "INFO:tensorflow:*** Available Device: _DeviceAttributes(/job:worker/replica:0/task:0/device:TPU:5, TPU, 0, 0)\n"
          ],
          "name": "stderr"
        },
        {
          "output_type": "stream",
          "text": [
            "INFO:tensorflow:*** Available Device: _DeviceAttributes(/job:worker/replica:0/task:0/device:TPU:6, TPU, 0, 0)\n"
          ],
          "name": "stdout"
        },
        {
          "output_type": "stream",
          "text": [
            "INFO:tensorflow:*** Available Device: _DeviceAttributes(/job:worker/replica:0/task:0/device:TPU:6, TPU, 0, 0)\n"
          ],
          "name": "stderr"
        },
        {
          "output_type": "stream",
          "text": [
            "INFO:tensorflow:*** Available Device: _DeviceAttributes(/job:worker/replica:0/task:0/device:TPU:7, TPU, 0, 0)\n"
          ],
          "name": "stdout"
        },
        {
          "output_type": "stream",
          "text": [
            "INFO:tensorflow:*** Available Device: _DeviceAttributes(/job:worker/replica:0/task:0/device:TPU:7, TPU, 0, 0)\n"
          ],
          "name": "stderr"
        },
        {
          "output_type": "stream",
          "text": [
            "INFO:tensorflow:*** Available Device: _DeviceAttributes(/job:worker/replica:0/task:0/device:TPU_SYSTEM:0, TPU_SYSTEM, 0, 0)\n"
          ],
          "name": "stdout"
        },
        {
          "output_type": "stream",
          "text": [
            "INFO:tensorflow:*** Available Device: _DeviceAttributes(/job:worker/replica:0/task:0/device:TPU_SYSTEM:0, TPU_SYSTEM, 0, 0)\n"
          ],
          "name": "stderr"
        },
        {
          "output_type": "stream",
          "text": [
            "INFO:tensorflow:*** Available Device: _DeviceAttributes(/job:worker/replica:0/task:0/device:XLA_CPU:0, XLA_CPU, 0, 0)\n"
          ],
          "name": "stdout"
        },
        {
          "output_type": "stream",
          "text": [
            "INFO:tensorflow:*** Available Device: _DeviceAttributes(/job:worker/replica:0/task:0/device:XLA_CPU:0, XLA_CPU, 0, 0)\n"
          ],
          "name": "stderr"
        }
      ]
    },
    {
      "cell_type": "code",
      "metadata": {
        "id": "1A_iA-KLp3hx"
      },
      "source": [
        "l=[]\n",
        "with open('/content/drive/MyDrive/english.txt','r') as f:\n",
        "  l=f.readlines()"
      ],
      "execution_count": null,
      "outputs": []
    },
    {
      "cell_type": "code",
      "metadata": {
        "id": "Wujpvwx8rgmC"
      },
      "source": [
        "with open('/content/drive/MyDrive/telugu.txt') as f:\n",
        "  l1=f.readlines()"
      ],
      "execution_count": null,
      "outputs": []
    },
    {
      "cell_type": "code",
      "metadata": {
        "id": "9G3ko2VWrhvg"
      },
      "source": [
        "for i in range(len(l1)):\n",
        "  if('right' in l1[i]):\n",
        "    p=l1[i].index('|')\n",
        "    k=l1[i][p+1:].index('|')\n",
        "    l1[i]=l1[i][k+1:]\n",
        "  if('left' in l1[i]):\n",
        "    p=l1[i].index('|')\n",
        "    k=l1[i][p+1:].index('|')\n",
        "    l1[i]=l1[i][k+1:]"
      ],
      "execution_count": null,
      "outputs": []
    },
    {
      "cell_type": "code",
      "metadata": {
        "id": "wBDKrC60r1qt"
      },
      "source": [
        "for i in range(len(l)):\n",
        "  if(l[i][-2]=='.'):\n",
        "    if(l1[i][-2]!='.'):\n",
        "      l1[i]=l1[i][:-1]+'.'+l1[i][-1]\n",
        "  else:\n",
        "    if(l1[i][-2]=='.'):\n",
        "      l1[i]=l1[i][:-2]+l1[i][-1]"
      ],
      "execution_count": null,
      "outputs": []
    },
    {
      "cell_type": "code",
      "metadata": {
        "colab": {
          "base_uri": "https://localhost:8080/"
        },
        "id": "rXY7CfYivKuZ",
        "outputId": "781e979a-0e7a-4ceb-ef55-65b65c25a572"
      },
      "source": [
        "import nltk\n",
        "nltk.download('punkt')"
      ],
      "execution_count": null,
      "outputs": [
        {
          "output_type": "stream",
          "text": [
            "[nltk_data] Downloading package punkt to /root/nltk_data...\n",
            "[nltk_data]   Unzipping tokenizers/punkt.zip.\n"
          ],
          "name": "stdout"
        },
        {
          "output_type": "execute_result",
          "data": {
            "text/plain": [
              "True"
            ]
          },
          "metadata": {
            "tags": []
          },
          "execution_count": 6
        }
      ]
    },
    {
      "cell_type": "code",
      "metadata": {
        "colab": {
          "base_uri": "https://localhost:8080/"
        },
        "id": "NRZU_I-Hui4T",
        "outputId": "694c02c3-4337-4c5a-8fbf-f3d7f3abd462"
      },
      "source": [
        "from nltk.tokenize import word_tokenize\n",
        "word_tokenize(l[678])"
      ],
      "execution_count": null,
      "outputs": [
        {
          "output_type": "execute_result",
          "data": {
            "text/plain": [
              "['origins', '.']"
            ]
          },
          "metadata": {
            "tags": []
          },
          "execution_count": 7
        }
      ]
    },
    {
      "cell_type": "code",
      "metadata": {
        "colab": {
          "base_uri": "https://localhost:8080/"
        },
        "id": "wbeRtS-YvGl2",
        "outputId": "a73fd8ff-6c74-4d4d-dfa5-b5bd51914620"
      },
      "source": [
        "word_tokenize(l1[678])"
      ],
      "execution_count": null,
      "outputs": [
        {
          "output_type": "execute_result",
          "data": {
            "text/plain": [
              "['మూలాలు', '.']"
            ]
          },
          "metadata": {
            "tags": []
          },
          "execution_count": 8
        }
      ]
    },
    {
      "cell_type": "code",
      "metadata": {
        "id": "sh12HFNWvWov"
      },
      "source": [
        "e=[]\n",
        "for i in l:\n",
        "  i=i.lower()\n",
        "  p=word_tokenize(i)\n",
        "  e.append(p)\n",
        "t=[]\n",
        "for i in l1:\n",
        "  p=word_tokenize(i)\n",
        "  t.append(p)"
      ],
      "execution_count": null,
      "outputs": []
    },
    {
      "cell_type": "code",
      "metadata": {
        "id": "lOvIJwzxz7fO"
      },
      "source": [
        "d={}\n",
        "d['<unk>']=1\n",
        "c=2\n",
        "for i in e:\n",
        "  for j in i:\n",
        "    if(not(j in d)):\n",
        "      d[j]=c\n",
        "      c+=1"
      ],
      "execution_count": null,
      "outputs": []
    },
    {
      "cell_type": "code",
      "metadata": {
        "id": "IFAWXhbm0AyT"
      },
      "source": [
        "eng_vocab=len(d)+1"
      ],
      "execution_count": null,
      "outputs": []
    },
    {
      "cell_type": "code",
      "metadata": {
        "id": "tgIr61e107bO"
      },
      "source": [
        "d1={}\n",
        "d1['<unk>']=1\n",
        "d1['start']=2\n",
        "d1['end']=3\n",
        "c=4\n",
        "for i in t:\n",
        "  for j in i:\n",
        "    if(not(j in d1)):\n",
        "      d1[j]=c\n",
        "      c+=1"
      ],
      "execution_count": null,
      "outputs": []
    },
    {
      "cell_type": "code",
      "metadata": {
        "id": "u42hlK-Y2Z1C"
      },
      "source": [
        "x=[]\n",
        "for i in e:\n",
        "  p=[]\n",
        "  for j in i:\n",
        "    p.append(d[j])\n",
        "  if(len(p)>128):\n",
        "    p=p[:128]\n",
        "  x.append(p)"
      ],
      "execution_count": null,
      "outputs": []
    },
    {
      "cell_type": "code",
      "metadata": {
        "id": "rFGZ313O35qy"
      },
      "source": [
        "for i in range(len(x)):\n",
        "  x[i]=x[i]+[0]*(128-len(x[i]))"
      ],
      "execution_count": null,
      "outputs": []
    },
    {
      "cell_type": "code",
      "metadata": {
        "id": "srspbyuy45jp"
      },
      "source": [
        "import numpy as np\n",
        "x=np.array(x)"
      ],
      "execution_count": null,
      "outputs": []
    },
    {
      "cell_type": "code",
      "metadata": {
        "id": "XJ8dGQaB5MPK"
      },
      "source": [
        "y=[]\n",
        "for i in t:\n",
        "  p=[]\n",
        "  for j in i:\n",
        "    p.append(d1[j])\n",
        "  if(len(p)>127):\n",
        "    p=p[:127]\n",
        "  p.append(3)\n",
        "  y.append(p)"
      ],
      "execution_count": null,
      "outputs": []
    },
    {
      "cell_type": "code",
      "metadata": {
        "id": "-JiLzz0W8GUH"
      },
      "source": [
        "for i in range(len(y)):\n",
        "  y[i]=y[i]+[0]*(128-len(y[i]))"
      ],
      "execution_count": null,
      "outputs": []
    },
    {
      "cell_type": "code",
      "metadata": {
        "id": "ZoXcdoH98SyU"
      },
      "source": [
        "y=np.array(y)"
      ],
      "execution_count": null,
      "outputs": []
    },
    {
      "cell_type": "code",
      "metadata": {
        "id": "OeGPWPil8XDE"
      },
      "source": [
        "yp=[]\n",
        "for i in t:\n",
        "  p=[2]\n",
        "  for j in i:\n",
        "    p.append(d1[j])\n",
        "  if(len(p)>127):\n",
        "    p=p[:127]\n",
        "  p.append(3)\n",
        "  yp.append(p)"
      ],
      "execution_count": null,
      "outputs": []
    },
    {
      "cell_type": "code",
      "metadata": {
        "id": "KS9dxK2d8zeb"
      },
      "source": [
        "for i in range(len(yp)):\n",
        "  yp[i]=yp[i]+[0]*(128-len(yp[i]))"
      ],
      "execution_count": null,
      "outputs": []
    },
    {
      "cell_type": "code",
      "metadata": {
        "id": "8G_rlBis81cx"
      },
      "source": [
        "yp=np.array(yp)"
      ],
      "execution_count": null,
      "outputs": []
    },
    {
      "cell_type": "code",
      "metadata": {
        "colab": {
          "base_uri": "https://localhost:8080/"
        },
        "id": "orhzgHKj2KdC",
        "outputId": "70bcc6b0-3a81-4e23-ab02-1bc02d6bb504"
      },
      "source": [
        "yp[0]"
      ],
      "execution_count": null,
      "outputs": [
        {
          "output_type": "execute_result",
          "data": {
            "text/plain": [
              "array([2, 4, 5, 6, 7, 8, 9, 3, 0, 0, 0, 0, 0, 0, 0, 0, 0, 0, 0, 0, 0, 0,\n",
              "       0, 0, 0, 0, 0, 0, 0, 0, 0, 0, 0, 0, 0, 0, 0, 0, 0, 0, 0, 0, 0, 0,\n",
              "       0, 0, 0, 0, 0, 0, 0, 0, 0, 0, 0, 0, 0, 0, 0, 0, 0, 0, 0, 0, 0, 0,\n",
              "       0, 0, 0, 0, 0, 0, 0, 0, 0, 0, 0, 0, 0, 0, 0, 0, 0, 0, 0, 0, 0, 0,\n",
              "       0, 0, 0, 0, 0, 0, 0, 0, 0, 0, 0, 0, 0, 0, 0, 0, 0, 0, 0, 0, 0, 0,\n",
              "       0, 0, 0, 0, 0, 0, 0, 0, 0, 0, 0, 0, 0, 0, 0, 0, 0, 0])"
            ]
          },
          "metadata": {
            "tags": []
          },
          "execution_count": 22
        }
      ]
    },
    {
      "cell_type": "code",
      "metadata": {
        "colab": {
          "base_uri": "https://localhost:8080/"
        },
        "id": "eGiRgOk02MZO",
        "outputId": "0756ff85-b849-41cd-af8e-947a991cabbd"
      },
      "source": [
        "y[0]"
      ],
      "execution_count": null,
      "outputs": [
        {
          "output_type": "execute_result",
          "data": {
            "text/plain": [
              "array([4, 5, 6, 7, 8, 9, 3, 0, 0, 0, 0, 0, 0, 0, 0, 0, 0, 0, 0, 0, 0, 0,\n",
              "       0, 0, 0, 0, 0, 0, 0, 0, 0, 0, 0, 0, 0, 0, 0, 0, 0, 0, 0, 0, 0, 0,\n",
              "       0, 0, 0, 0, 0, 0, 0, 0, 0, 0, 0, 0, 0, 0, 0, 0, 0, 0, 0, 0, 0, 0,\n",
              "       0, 0, 0, 0, 0, 0, 0, 0, 0, 0, 0, 0, 0, 0, 0, 0, 0, 0, 0, 0, 0, 0,\n",
              "       0, 0, 0, 0, 0, 0, 0, 0, 0, 0, 0, 0, 0, 0, 0, 0, 0, 0, 0, 0, 0, 0,\n",
              "       0, 0, 0, 0, 0, 0, 0, 0, 0, 0, 0, 0, 0, 0, 0, 0, 0, 0])"
            ]
          },
          "metadata": {
            "tags": []
          },
          "execution_count": 23
        }
      ]
    },
    {
      "cell_type": "code",
      "metadata": {
        "id": "kWji97Zs9A_e"
      },
      "source": [
        "from tensorflow.keras.models import Model\n",
        "from keras.layers import Embedding,Dense,Bidirectional,Input,LSTM"
      ],
      "execution_count": null,
      "outputs": []
    },
    {
      "cell_type": "code",
      "metadata": {
        "id": "Trdytai7Bl-J"
      },
      "source": [
        "tel_vocab=len(d1)+1"
      ],
      "execution_count": null,
      "outputs": []
    },
    {
      "cell_type": "code",
      "metadata": {
        "colab": {
          "base_uri": "https://localhost:8080/"
        },
        "id": "Y_AjrymF4ZVd",
        "outputId": "b7791391-45fd-4a32-ca87-e5b7739c214c"
      },
      "source": [
        "len(d1)"
      ],
      "execution_count": null,
      "outputs": [
        {
          "output_type": "execute_result",
          "data": {
            "text/plain": [
              "37632"
            ]
          },
          "metadata": {
            "tags": []
          },
          "execution_count": 26
        }
      ]
    },
    {
      "cell_type": "code",
      "metadata": {
        "id": "y-jRPE3P_HFO"
      },
      "source": [
        "with tpu_strategy.scope(): \n",
        "  encoder_inputs=Input((128,))\n",
        "  embedd=Embedding(eng_vocab,100)\n",
        "  encoder_inputs1=embedd(encoder_inputs)\n",
        "  encoder_lstm=(LSTM(64,return_state=True))\n",
        "  encoder_outputs,state_h,state_c=encoder_lstm(encoder_inputs1)\n",
        "  encoder_states=[state_h,state_c]\n",
        "  decoder_inputs=Input(shape=(None,))\n",
        "  dec_embed=Embedding(tel_vocab,100)\n",
        "  decoder_inputs1=dec_embed(decoder_inputs)\n",
        "  decoder_lstm=(LSTM(64,return_state=True,return_sequences=True))\n",
        "  decoder_outputs,_,_=decoder_lstm(decoder_inputs1,initial_state=encoder_states)\n",
        "  decoder_dense=Dense(tel_vocab,activation='softmax')\n",
        "  decoder_outputs=decoder_dense(decoder_outputs)\n",
        "  model=Model([encoder_inputs, decoder_inputs],decoder_outputs)\n",
        "  encoder_model = Model(encoder_inputs, encoder_states)\n",
        "  decoder_state_input_h = Input(shape=(64,))\n",
        "  decoder_state_input_c = Input(shape=(64,))\n",
        "  decoder_states_inputs = [decoder_state_input_h, decoder_state_input_c]\n",
        "  dec_emb2=dec_embed(decoder_inputs)\n",
        "  decoder_outputs, state_h, state_c = decoder_lstm(dec_emb2, initial_state=decoder_states_inputs)\n",
        "  decoder_states = [state_h, state_c]\n",
        "  decoder_outputs = decoder_dense(decoder_outputs)\n",
        "  decoder_model = Model([decoder_inputs] + decoder_states_inputs, [decoder_outputs] + decoder_states)"
      ],
      "execution_count": null,
      "outputs": []
    },
    {
      "cell_type": "code",
      "metadata": {
        "id": "EIje0odbH5AP"
      },
      "source": [
        "import keras\n",
        "with tpu_strategy.scope():\n",
        "  model.compile(optimizer=keras.optimizers.Adam(),loss='sparse_categorical_crossentropy',metrics=['accuracy'],steps_per_execution=32)"
      ],
      "execution_count": null,
      "outputs": []
    },
    {
      "cell_type": "code",
      "metadata": {
        "colab": {
          "base_uri": "https://localhost:8080/"
        },
        "id": "55lowoiVJE49",
        "outputId": "4394ed1d-bb59-4781-dfaa-f74ff7f24c93"
      },
      "source": [
        "model.fit([x,yp],y,epochs=15,batch_size=128)"
      ],
      "execution_count": null,
      "outputs": [
        {
          "output_type": "stream",
          "text": [
            "Epoch 1/15\n",
            "337/337 [==============================] - 31s 93ms/step - loss: 2.1743 - accuracy: 0.9071\n",
            "Epoch 2/15\n",
            "337/337 [==============================] - 14s 40ms/step - loss: 0.7634 - accuracy: 0.9170\n",
            "Epoch 3/15\n",
            "337/337 [==============================] - 14s 40ms/step - loss: 0.7346 - accuracy: 0.9175\n",
            "Epoch 4/15\n",
            "337/337 [==============================] - 14s 41ms/step - loss: 0.7154 - accuracy: 0.9188\n",
            "Epoch 5/15\n",
            "337/337 [==============================] - 14s 40ms/step - loss: 0.6972 - accuracy: 0.9202\n",
            "Epoch 6/15\n",
            "337/337 [==============================] - 14s 40ms/step - loss: 0.6789 - accuracy: 0.9211\n",
            "Epoch 7/15\n",
            "337/337 [==============================] - 14s 40ms/step - loss: 0.6598 - accuracy: 0.9220\n",
            "Epoch 8/15\n",
            "337/337 [==============================] - 14s 40ms/step - loss: 0.6394 - accuracy: 0.9226\n",
            "Epoch 9/15\n",
            "337/337 [==============================] - 14s 40ms/step - loss: 0.6179 - accuracy: 0.9234\n",
            "Epoch 10/15\n",
            "337/337 [==============================] - 14s 40ms/step - loss: 0.5960 - accuracy: 0.9240\n",
            "Epoch 11/15\n",
            "337/337 [==============================] - 14s 40ms/step - loss: 0.5736 - accuracy: 0.9248\n",
            "Epoch 12/15\n",
            "337/337 [==============================] - 14s 40ms/step - loss: 0.5514 - accuracy: 0.9256\n",
            "Epoch 13/15\n",
            "337/337 [==============================] - 14s 40ms/step - loss: 0.5292 - accuracy: 0.9264\n",
            "Epoch 14/15\n",
            "337/337 [==============================] - 14s 40ms/step - loss: 0.5071 - accuracy: 0.9275\n",
            "Epoch 15/15\n",
            "337/337 [==============================] - 14s 40ms/step - loss: 0.4855 - accuracy: 0.9287\n"
          ],
          "name": "stdout"
        },
        {
          "output_type": "execute_result",
          "data": {
            "text/plain": [
              "<tensorflow.python.keras.callbacks.History at 0x7fc9c73de1d0>"
            ]
          },
          "metadata": {
            "tags": []
          },
          "execution_count": 59
        }
      ]
    },
    {
      "cell_type": "code",
      "metadata": {
        "colab": {
          "base_uri": "https://localhost:8080/"
        },
        "id": "QFH1KHMhTCi6",
        "outputId": "b99ae98b-212b-4b09-ce26-ec31b2dc8756"
      },
      "source": [
        "model.fit([x,yp],y,epochs=20,batch_size=128)"
      ],
      "execution_count": null,
      "outputs": [
        {
          "output_type": "stream",
          "text": [
            "Epoch 1/20\n",
            "337/337 [==============================] - 14s 41ms/step - loss: 0.4644 - accuracy: 0.9302\n",
            "Epoch 2/20\n",
            "337/337 [==============================] - 14s 41ms/step - loss: 0.4438 - accuracy: 0.9320\n",
            "Epoch 3/20\n",
            "337/337 [==============================] - 14s 40ms/step - loss: 0.4235 - accuracy: 0.9342\n",
            "Epoch 4/20\n",
            "337/337 [==============================] - 14s 40ms/step - loss: 0.4035 - accuracy: 0.9371\n",
            "Epoch 5/20\n",
            "337/337 [==============================] - 14s 40ms/step - loss: 0.3834 - accuracy: 0.9404\n",
            "Epoch 6/20\n",
            "337/337 [==============================] - 14s 40ms/step - loss: 0.3641 - accuracy: 0.9439\n",
            "Epoch 7/20\n",
            "337/337 [==============================] - 14s 41ms/step - loss: 0.3456 - accuracy: 0.9475\n",
            "Epoch 8/20\n",
            "337/337 [==============================] - 14s 41ms/step - loss: 0.3254 - accuracy: 0.9520\n",
            "Epoch 9/20\n",
            "337/337 [==============================] - 14s 40ms/step - loss: 0.3062 - accuracy: 0.9557\n",
            "Epoch 10/20\n",
            "337/337 [==============================] - 14s 40ms/step - loss: 0.2885 - accuracy: 0.9586\n",
            "Epoch 11/20\n",
            "337/337 [==============================] - 14s 40ms/step - loss: 0.2723 - accuracy: 0.9610\n",
            "Epoch 12/20\n",
            "337/337 [==============================] - 14s 40ms/step - loss: 0.2573 - accuracy: 0.9631\n",
            "Epoch 13/20\n",
            "337/337 [==============================] - 14s 41ms/step - loss: 0.2434 - accuracy: 0.9650\n",
            "Epoch 14/20\n",
            "337/337 [==============================] - 14s 40ms/step - loss: 0.2313 - accuracy: 0.9665\n",
            "Epoch 15/20\n",
            "337/337 [==============================] - 14s 40ms/step - loss: 0.2201 - accuracy: 0.9679\n",
            "Epoch 16/20\n",
            "337/337 [==============================] - 14s 41ms/step - loss: 0.2095 - accuracy: 0.9692\n",
            "Epoch 17/20\n",
            "337/337 [==============================] - 14s 41ms/step - loss: 0.2002 - accuracy: 0.9703\n",
            "Epoch 18/20\n",
            "337/337 [==============================] - 14s 41ms/step - loss: 0.1912 - accuracy: 0.9714\n",
            "Epoch 19/20\n",
            "337/337 [==============================] - 14s 41ms/step - loss: 0.1829 - accuracy: 0.9724\n",
            "Epoch 20/20\n",
            "337/337 [==============================] - 14s 40ms/step - loss: 0.1755 - accuracy: 0.9734\n"
          ],
          "name": "stdout"
        },
        {
          "output_type": "execute_result",
          "data": {
            "text/plain": [
              "<tensorflow.python.keras.callbacks.History at 0x7fc9c7086b10>"
            ]
          },
          "metadata": {
            "tags": []
          },
          "execution_count": 0
        }
      ]
    },
    {
      "cell_type": "code",
      "metadata": {
        "colab": {
          "base_uri": "https://localhost:8080/"
        },
        "id": "h9C8fe3QUl4H",
        "outputId": "224b7563-9f1d-4244-ddfb-f4956e59bb3b"
      },
      "source": [
        "model.fit([x,yp],y,epochs=10,batch_size=128)"
      ],
      "execution_count": null,
      "outputs": [
        {
          "output_type": "stream",
          "text": [
            "Epoch 1/10\n",
            "337/337 [==============================] - 14s 41ms/step - loss: 0.0628 - accuracy: 0.9885\n",
            "Epoch 2/10\n",
            "337/337 [==============================] - 14s 40ms/step - loss: 0.0622 - accuracy: 0.9886\n",
            "Epoch 3/10\n",
            "337/337 [==============================] - 14s 40ms/step - loss: 0.0620 - accuracy: 0.9886\n",
            "Epoch 4/10\n",
            "337/337 [==============================] - 14s 40ms/step - loss: 0.0598 - accuracy: 0.9889\n",
            "Epoch 5/10\n",
            "337/337 [==============================] - 14s 40ms/step - loss: 0.0586 - accuracy: 0.9891\n",
            "Epoch 6/10\n",
            "337/337 [==============================] - 14s 41ms/step - loss: 0.0579 - accuracy: 0.9892\n",
            "Epoch 7/10\n",
            "337/337 [==============================] - 14s 40ms/step - loss: 0.0570 - accuracy: 0.9893\n",
            "Epoch 8/10\n",
            "337/337 [==============================] - 14s 40ms/step - loss: 0.0560 - accuracy: 0.9895\n",
            "Epoch 9/10\n",
            "337/337 [==============================] - 14s 40ms/step - loss: 0.0549 - accuracy: 0.9896\n",
            "Epoch 10/10\n",
            "337/337 [==============================] - 14s 40ms/step - loss: 0.0540 - accuracy: 0.9897\n"
          ],
          "name": "stdout"
        },
        {
          "output_type": "execute_result",
          "data": {
            "text/plain": [
              "<tensorflow.python.keras.callbacks.History at 0x7fc9c7f53510>"
            ]
          },
          "metadata": {
            "tags": []
          },
          "execution_count": 142
        }
      ]
    },
    {
      "cell_type": "code",
      "metadata": {
        "id": "aSLQ-rpBC0iX"
      },
      "source": [
        "r=encoder_model.predict(np.array([x[500]]))"
      ],
      "execution_count": null,
      "outputs": []
    },
    {
      "cell_type": "code",
      "metadata": {
        "id": "jRm6PcQCDhh4"
      },
      "source": [
        "p=np.array([[5967]])"
      ],
      "execution_count": null,
      "outputs": []
    },
    {
      "cell_type": "code",
      "metadata": {
        "id": "gFwXIUm4D2iR"
      },
      "source": [
        "r1=decoder_model.predict([p]+r)"
      ],
      "execution_count": null,
      "outputs": []
    },
    {
      "cell_type": "code",
      "metadata": {
        "id": "9sU_dKYrEDeN"
      },
      "source": [
        "a,b,c=r1"
      ],
      "execution_count": null,
      "outputs": []
    },
    {
      "cell_type": "code",
      "metadata": {
        "colab": {
          "base_uri": "https://localhost:8080/"
        },
        "id": "T1Pww4GYEUfO",
        "outputId": "182fb810-89b7-4e15-8269-37cf9fdb62d6"
      },
      "source": [
        "np.argmax(a[0,0,:]).reshape(1,1)"
      ],
      "execution_count": null,
      "outputs": [
        {
          "output_type": "execute_result",
          "data": {
            "text/plain": [
              "array([[10]])"
            ]
          },
          "metadata": {
            "tags": []
          },
          "execution_count": 118
        }
      ]
    },
    {
      "cell_type": "code",
      "metadata": {
        "id": "YhdDTmKIIqsT"
      },
      "source": [
        "td1={a:b for b,a in d1.items()}"
      ],
      "execution_count": null,
      "outputs": []
    },
    {
      "cell_type": "code",
      "metadata": {
        "id": "yWOw2n8UFQ8M"
      },
      "source": [
        "td1[0]='pad'"
      ],
      "execution_count": null,
      "outputs": []
    },
    {
      "cell_type": "code",
      "metadata": {
        "colab": {
          "base_uri": "https://localhost:8080/",
          "height": 35
        },
        "id": "RQlwrGF7FjVJ",
        "outputId": "477b2d10-6bd0-430c-88f7-86a5d1bc52e3"
      },
      "source": [
        "td1[2]"
      ],
      "execution_count": null,
      "outputs": [
        {
          "output_type": "execute_result",
          "data": {
            "application/vnd.google.colaboratory.intrinsic+json": {
              "type": "string"
            },
            "text/plain": [
              "'start'"
            ]
          },
          "metadata": {
            "tags": []
          },
          "execution_count": 48
        }
      ]
    },
    {
      "cell_type": "code",
      "metadata": {
        "id": "DKcbTN75jf5s"
      },
      "source": [
        "def predict_sequence(infenc, infdec, source, n_steps):\n",
        "  state = infenc.predict(source)\n",
        "  target_seq = np.array([[2]])\n",
        "  output = list()\n",
        "  for t in range(n_steps):\n",
        "    yhat, h, c= infdec.predict([target_seq] + state)\n",
        "    state = [h, c]\n",
        "    k=np.argmax(yhat)\n",
        "    target_seq = k.reshape(1,1)\n",
        "    s=td1[k]\n",
        "    print(s)\n",
        "    output.append(s)\n",
        "  return output"
      ],
      "execution_count": null,
      "outputs": []
    },
    {
      "cell_type": "code",
      "metadata": {
        "id": "pqIlUIRcV33H"
      },
      "source": [
        "s=\"lets see how it goes\"\n",
        "s=word_tokenize(s)\n",
        "s1=[]\n",
        "for i in s:\n",
        "  if(i in d):\n",
        "    s1.append(d[i])\n",
        "  else:\n",
        "    s1.append(d['<unk>'])\n",
        "s1=s1+[0]*(128-len(s1))\n",
        "s1=np.array(s1)"
      ],
      "execution_count": null,
      "outputs": []
    },
    {
      "cell_type": "code",
      "metadata": {
        "id": "lu_Bf_TcNdld",
        "colab": {
          "base_uri": "https://localhost:8080/"
        },
        "outputId": "af7ecc27-be68-4369-91ad-03b4025a4b95"
      },
      "source": [
        "res=predict_sequence(encoder_model,decoder_model,np.array([s1]),10)"
      ],
      "execution_count": null,
      "outputs": [
        {
          "output_type": "stream",
          "text": [
            "కాని\n",
            "1922\n",
            "లో\n",
            "ఉత్తరప్రదేశ్\n",
            "చౌరీచౌరా\n",
            "లో\n",
            "ఉద్రేకాలు\n",
            "పెల్లుబికి\n",
            "హింస\n",
            "చెలరేగింది\n"
          ],
          "name": "stdout"
        }
      ]
    },
    {
      "cell_type": "code",
      "metadata": {
        "id": "kARwU-xiefmK"
      },
      "source": [
        ""
      ],
      "execution_count": null,
      "outputs": []
    }
  ]
}